{
 "cells": [
  {
   "cell_type": "code",
   "execution_count": 49,
   "id": "7fc07a9d",
   "metadata": {},
   "outputs": [
    {
     "name": "stdout",
     "output_type": "stream",
     "text": [
      "Channels:\n",
      " - defaults\n",
      "Platform: osx-64\n",
      "Collecting package metadata (repodata.json): done\n",
      "Solving environment: done\n",
      "\n",
      "# All requested packages already installed.\n",
      "\n",
      "\n",
      "Note: you may need to restart the kernel to use updated packages.\n"
     ]
    }
   ],
   "source": [
    "conda install pandas"
   ]
  },
  {
   "cell_type": "code",
   "execution_count": 50,
   "id": "159fedab",
   "metadata": {},
   "outputs": [
    {
     "name": "stdout",
     "output_type": "stream",
     "text": [
      "             raw    clean\n",
      "0           BOB(      bob\n",
      "1        dana~       dana\n",
      "2          {EVE/      eve\n",
      "3      \"ALICE       alice\n",
      "4            BOB      bob\n",
      "5           DANA     dana\n",
      "6        CHARLIE  charlie\n",
      "7       alice       alice\n",
      "8          FRANK    frank\n",
      "9            bob      bob\n",
      "10           eve      eve\n",
      "11        \\dana'     dana\n",
      "12           EVE      eve\n",
      "13      CHARLIE   charlie\n",
      "14          -eve      eve\n",
      "15        bob         bob\n",
      "16           EVE      eve\n",
      "17     .FRANK       frank\n",
      "18          eve       eve\n",
      "19           EVE      eve\n",
      "20          BOB&      bob\n",
      "21      charlie\"  charlie\n",
      "22    ,charlie    charlie\n",
      "23         EVE        eve\n",
      "24         ]dana     dana\n",
      "25     charlie    charlie\n",
      "26        alice+    alice\n",
      "27         EVE{       eve\n",
      "28          DANA     dana\n",
      "29       frank      frank\n",
      "30      CHARLIE!  charlie\n",
      "31      |ALICE#     alice\n",
      "32           BOB      bob\n",
      "33        frank^    frank\n",
      "34         alice    alice\n",
      "35          'bob      bob\n",
      "36       CHARLIE  charlie\n",
      "37         eve+       eve\n",
      "38      CHARLIE   charlie\n",
      "39       charlie  charlie\n",
      "40         dana#     dana\n",
      "41       DANA        dana\n",
      "42          dana     dana\n",
      "43       CHARLIE  charlie\n",
      "44    =charlie!   charlie\n",
      "45        bob         bob\n",
      "46           bob      bob\n",
      "47       ;EVE         eve\n",
      "48    =charlie    charlie\n",
      "49          dana     dana\n"
     ]
    }
   ],
   "source": [
    "# Task A: Load data/messy strings.csv into df raw\n",
    "import pandas as pd\n",
    "df[\"raw\"] = pd.read_csv(\"messy_strings.csv\")\n",
    "print(df)"
   ]
  },
  {
   "cell_type": "code",
   "execution_count": 51,
   "id": "ac34c0a4",
   "metadata": {},
   "outputs": [],
   "source": [
    "# Task B: Write clean strings(strings) that Strips spaces, Lower-cases, Removes punctuation (!?,.;:), Drops empty entries\n",
    "import string\n",
    "def clean_strings(strings):\n",
    "    strings = strings.dropna()\n",
    "    strings = strings.astype(str)\n",
    "    strings = strings.str.strip()\n",
    "    strings = strings.str.lower()\n",
    "    strings = strings.str.replace(r\"[^a-z]\", \"\", regex=True)\n",
    "    return strings"
   ]
  },
  {
   "cell_type": "code",
   "execution_count": 52,
   "id": "a5f6ad09",
   "metadata": {},
   "outputs": [
    {
     "name": "stdout",
     "output_type": "stream",
     "text": [
      "0         bob\n",
      "1        dana\n",
      "2         eve\n",
      "3       alice\n",
      "4         bob\n",
      "5        dana\n",
      "6     charlie\n",
      "7       alice\n",
      "8       frank\n",
      "9         bob\n",
      "10        eve\n",
      "11       dana\n",
      "12        eve\n",
      "13    charlie\n",
      "14        eve\n",
      "15        bob\n",
      "16        eve\n",
      "17      frank\n",
      "18        eve\n",
      "19        eve\n",
      "20        bob\n",
      "21    charlie\n",
      "22    charlie\n",
      "23        eve\n",
      "24       dana\n",
      "25    charlie\n",
      "26      alice\n",
      "27        eve\n",
      "28       dana\n",
      "29      frank\n",
      "30    charlie\n",
      "31      alice\n",
      "32        bob\n",
      "33      frank\n",
      "34      alice\n",
      "35        bob\n",
      "36    charlie\n",
      "37        eve\n",
      "38    charlie\n",
      "39    charlie\n",
      "40       dana\n",
      "41       dana\n",
      "42       dana\n",
      "43    charlie\n",
      "44    charlie\n",
      "45        bob\n",
      "46        bob\n",
      "47        eve\n",
      "48    charlie\n",
      "49       dana\n",
      "Name: clean, dtype: object\n"
     ]
    }
   ],
   "source": [
    "# Task C: Apply it: df[’clean’] = clean strings(df[’raw’])\n",
    "df[\"clean\"] = clean_strings(df[\"raw\"])\n",
    "print(df[\"clean\"])"
   ]
  },
  {
   "cell_type": "code",
   "execution_count": 53,
   "id": "e1848130",
   "metadata": {},
   "outputs": [
    {
     "name": "stdout",
     "output_type": "stream",
     "text": [
      "total rows is 50\n",
      "unique count is 6\n",
      "most common string is charlie\n"
     ]
    }
   ],
   "source": [
    "# Task D: Compute on df[’clean’]: Total rows, Unique count, Most common string (value counts())\n",
    "total_rows = len(df[\"clean\"])\n",
    "print(f\"total rows is {total_rows}\")\n",
    "\n",
    "unique_count = df[\"clean\"].nunique()\n",
    "print(f\"unique count is {unique_count}\")\n",
    "\n",
    "value_counts = df[\"clean\"].value_counts()\n",
    "most_common = value_counts.index[0]\n",
    "print(f\"most common string is {most_common}\")"
   ]
  },
  {
   "cell_type": "code",
   "execution_count": 54,
   "id": "10bc3f8b",
   "metadata": {},
   "outputs": [
    {
     "data": {
      "image/png": "[encoded data removed]",
      "text/plain": [
       "<Figure size 640x480 with 1 Axes>"
      ]
     },
     "metadata": {},
     "output_type": "display_data"
    }
   ],
   "source": [
    "# Task E: Save cleaned data\n",
    "df.to_csv(\"clean.csv\", index=False)\n",
    "value_counts.head(5).plot.bar()\n",
    "import matplotlib.pyplot as plt; plt.show()"
   ]
  }
 ],
 "metadata": {
  "kernelspec": {
   "display_name": "base",
   "language": "python",
   "name": "python3"
  },
  "language_info": {
   "codemirror_mode": {
    "name": "ipython",
    "version": 3
   },
   "file_extension": ".py",
   "mimetype": "text/x-python",
   "name": "python",
   "nbconvert_exporter": "python",
   "pygments_lexer": "ipython3",
   "version": "3.13.5"
  }
 },
 "nbformat": 4,
 "nbformat_minor": 5
}
