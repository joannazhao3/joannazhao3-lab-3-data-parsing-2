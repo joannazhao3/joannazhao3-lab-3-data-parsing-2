{
 "cells": [
  {
   "cell_type": "code",
   "execution_count": null,
   "id": "159fedab",
   "metadata": {},
   "outputs": [],
   "source": [
    "# Task A: Load data/messy strings.csv into df raw\n",
    "import pandas as pd\n",
    "df = pd.read_csv(\"data/messy strings.csv\")"
   ]
  },
  {
   "cell_type": "code",
   "execution_count": null,
   "id": "ac34c0a4",
   "metadata": {},
   "outputs": [],
   "source": [
    "# Task B: Write clean strings(strings) that Strips spaces, Lower-cases, Removes punctuation (!?,.;:), Drops empty entries\n",
    "def clean_strings(strings):\n",
    "    strings = strings.dropna(strings)\n",
    "    strings = strings.astype(strings)\n",
    "    strings = strings.str.strip(strings)\n",
    "    strings = strings.str.lower(strings)\n",
    "    strings = strings.str.replace(\"!\" string.punctuation \" \" )"
   ]
  },
  {
   "cell_type": "code",
   "execution_count": null,
   "id": "a5f6ad09",
   "metadata": {},
   "outputs": [],
   "source": [
    "# Task C: Apply it: df[’clean’] = clean strings(df[’raw’])\n",
    "df[’clean’] = clean strings(df[’raw’])"
   ]
  },
  {
   "cell_type": "code",
   "execution_count": null,
   "id": "e1848130",
   "metadata": {},
   "outputs": [],
   "source": [
    "# Task D: Compute on df[’clean’]: Total rows, Unique count, Most common string (value counts())\n"
   ]
  },
  {
   "cell_type": "code",
   "execution_count": null,
   "id": "10bc3f8b",
   "metadata": {},
   "outputs": [],
   "source": [
    "# Task E: Save cleaned data"
   ]
  }
 ],
 "metadata": {
  "kernelspec": {
   "display_name": "lab_3",
   "language": "python",
   "name": "python3"
  },
  "language_info": {
   "name": "python",
   "version": "3.13.5"
  }
 },
 "nbformat": 4,
 "nbformat_minor": 5
}
